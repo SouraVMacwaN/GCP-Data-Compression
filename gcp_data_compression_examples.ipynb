{
 "cells": [
  {
   "cell_type": "markdown",
   "id": "d767e16f",
   "metadata": {},
   "source": [
    "# GCP Data Compression Examples using Python"
   ]
  },
  {
   "cell_type": "markdown",
   "id": "ab82827e",
   "metadata": {},
   "source": [
    "\n",
    "This notebook demonstrates how to apply **data compression in Google Cloud Platform (GCP)** using Python.  \n",
    "We'll cover:\n",
    "\n",
    "1. Compressing local files using **GZIP** and **Snappy**\n",
    "2. Uploading compressed files to **Google Cloud Storage**\n",
    "3. Loading compressed files into **BigQuery**\n",
    "4. Writing **Parquet files** with Snappy compression\n",
    "5. Benchmarking compression ratios\n"
   ]
  },
  {
   "cell_type": "markdown",
   "id": "c1c79f8b",
   "metadata": {},
   "source": [
    "## GZIP Compression (Local File + Upload to GCS)"
   ]
  },
  {
   "cell_type": "code",
   "execution_count": null,
   "id": "5308cdd2",
   "metadata": {},
   "outputs": [],
   "source": [
    "\n",
    "import gzip\n",
    "import shutil\n",
    "from google.cloud import storage\n",
    "\n",
    "# Compress local file\n",
    "with open(\"data.csv\", \"rb\") as f_in:\n",
    "    with gzip.open(\"data.csv.gz\", \"wb\") as f_out:\n",
    "        shutil.copyfileobj(f_in, f_out)\n",
    "\n",
    "# Upload to GCS\n",
    "client = storage.Client()\n",
    "bucket = client.bucket(\"your-bucket\")\n",
    "blob = bucket.blob(\"data/data.csv.gz\")\n",
    "blob.upload_from_filename(\"data.csv.gz\")\n",
    "\n",
    "print(\"✅ Uploaded compressed file to GCS\")\n"
   ]
  },
  {
   "cell_type": "markdown",
   "id": "91c9f357",
   "metadata": {},
   "source": [
    "##  Load GZIP File into BigQuery"
   ]
  },
  {
   "cell_type": "code",
   "execution_count": null,
   "id": "2714dcbc",
   "metadata": {},
   "outputs": [],
   "source": [
    "\n",
    "from google.cloud import bigquery\n",
    "\n",
    "bq_client = bigquery.Client()\n",
    "\n",
    "job_config = bigquery.LoadJobConfig(\n",
    "    source_format=bigquery.SourceFormat.CSV,\n",
    "    autodetect=True,\n",
    "    skip_leading_rows=1,\n",
    ")\n",
    "\n",
    "uri = \"gs://your-bucket/data/data.csv.gz\"\n",
    "table_id = \"your_dataset.compressed_table\"\n",
    "\n",
    "load_job = bq_client.load_table_from_uri(uri, table_id, job_config=job_config)\n",
    "load_job.result()\n",
    "\n",
    "print(\"✅ Loaded compressed data into BigQuery\")\n"
   ]
  },
  {
   "cell_type": "markdown",
   "id": "29b48b3c",
   "metadata": {},
   "source": [
    "##  Write Parquet with Snappy Compression"
   ]
  },
  {
   "cell_type": "code",
   "execution_count": null,
   "id": "8b7c219c",
   "metadata": {},
   "outputs": [],
   "source": [
    "\n",
    "import pandas as pd\n",
    "import pyarrow as pa\n",
    "import pyarrow.parquet as pq\n",
    "\n",
    "df = pd.DataFrame({\n",
    "    \"id\": [1, 2, 3],\n",
    "    \"name\": [\"Alice\", \"Bob\", \"Charlie\"]\n",
    "})\n",
    "\n",
    "table = pa.Table.from_pandas(df)\n",
    "pq.write_table(table, \"data_snappy.parquet\", compression=\"SNAPPY\")\n",
    "\n",
    "print(\"✅ Created Snappy-compressed Parquet file\")\n"
   ]
  },
  {
   "cell_type": "markdown",
   "id": "d23b6e03",
   "metadata": {},
   "source": [
    "## Benchmark Compression Ratios"
   ]
  },
  {
   "cell_type": "code",
   "execution_count": null,
   "id": "a41586a8",
   "metadata": {},
   "outputs": [],
   "source": [
    "\n",
    "import os\n",
    "\n",
    "files = [\"data.csv\", \"data.csv.gz\", \"data_snappy.parquet\"]\n",
    "for f in files:\n",
    "    if os.path.exists(f):\n",
    "        print(f\"{f}: {os.path.getsize(f) / 1024:.2f} KB\")\n",
    "    else:\n",
    "        print(f\"{f}: File not found (create it before benchmarking)\")\n"
   ]
  },
  {
   "cell_type": "markdown",
   "id": "244ce00b",
   "metadata": {},
   "source": [
    "\n",
    "---\n",
    "### \n",
    "- Use **Snappy** for streaming and **GZIP/ZSTD** for archival storage.  \n",
    "- Combine **Parquet + Snappy** for best performance in **BigQuery** and **Dataflow**.  \n",
    "- Compress intermediate ETL data to reduce network I/O.  \n"
   ]
  }
 ],
 "metadata": {
  "language_info": {
   "name": "python"
  }
 },
 "nbformat": 4,
 "nbformat_minor": 5
}
